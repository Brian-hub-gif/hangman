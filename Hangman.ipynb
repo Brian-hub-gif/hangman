{
  "nbformat": 4,
  "nbformat_minor": 0,
  "metadata": {
    "colab": {
      "name": "Hangman.ipynb",
      "provenance": [],
      "authorship_tag": "ABX9TyPQTBdZs0HWWkCRkRP3ulXA",
      "include_colab_link": true
    },
    "kernelspec": {
      "name": "python3",
      "display_name": "Python 3"
    }
  },
  "cells": [
    {
      "cell_type": "markdown",
      "metadata": {
        "id": "view-in-github",
        "colab_type": "text"
      },
      "source": [
        "<a href=\"https://colab.research.google.com/github/BrianSandiford/hangman/blob/master/Hangman.ipynb\" target=\"_parent\"><img src=\"https://colab.research.google.com/assets/colab-badge.svg\" alt=\"Open In Colab\"/></a>"
      ]
    },
    {
      "cell_type": "code",
      "metadata": {
        "id": "H4hUhdbXJTvB",
        "colab_type": "code",
        "colab": {}
      },
      "source": [
        ""
      ],
      "execution_count": null,
      "outputs": []
    },
    {
      "cell_type": "code",
      "metadata": {
        "id": "cTFi08lXJPiN",
        "colab_type": "code",
        "colab": {}
      },
      "source": [
        ""
      ],
      "execution_count": null,
      "outputs": []
    },
    {
      "cell_type": "code",
      "metadata": {
        "id": "_cUpe-RAKR58",
        "colab_type": "code",
        "colab": {
          "base_uri": "https://localhost:8080/",
          "height": 129
        },
        "outputId": "8e74e4b4-7d1e-4e51-aecb-6b658c427f41"
      },
      "source": [
        "secret_word = \"giraffe\"\n",
        "word_lenght = len(secret_word)\n",
        "hidden_word = []\n",
        "def hidden_word_func (word_lenght):\n",
        "   i = 0\n",
        "   while i < word_lenght:\n",
        "\t       hidden_word.append(\"_\")\n",
        "\t       i = i + 1\n",
        "   return hidden_word\n",
        "\n",
        "hidden_word = hidden_word_func(word_lenght)\n",
        "print(hidden_word)\n",
        "print(word_lenght)\n",
        "x = 0\n",
        "guess_input = input(\"Enter guess:\")\n",
        "times_guess_appear = secret_word.count(guess_input)\n",
        "if times_guess_appear < 1:\n",
        "\tprint(guess_input + \" is not a letter or word\")\n",
        "elif times_guess_appear > 1:\n",
        "     while x < word_lenght:\n",
        "if secret_word[x] == guess_input:\n",
        "\t hidden_word[x] = guess_input\n",
        "\t x=x + 1\n",
        "else: secret_word[x] != guess_input\n",
        "\t\t\tx = x + 1\n",
        "\n",
        "print(hidden_word)\t   \t\n",
        "\t   \t\n",
        "guess = \"\"\n",
        "guess_count = 0\n",
        "guess_limit = 6\n",
        "out_of_guesses = False\n",
        "while guess != secret_word and not out_of_guesses:\n",
        "     if guess_count < guess_limit:\n",
        "     \tguess = input(\"Enter guess:\")\n",
        "     \tguess_count = guess_count + 1\n",
        "     else:\n",
        "     \tout_of_guesses = True\n",
        "     \t\n",
        "if out_of_guesses:\n",
        "\tprint(\"Out of guesses .You loss!!\")\n",
        "else:\n",
        "\tprint(\"You Win!!\")\n",
        "     \t\n"
      ],
      "execution_count": null,
      "outputs": [
        {
          "output_type": "error",
          "ename": "IndentationError",
          "evalue": "ignored",
          "traceback": [
            "\u001b[0;36m  File \u001b[0;32m\"<ipython-input-11-d0eac2cbee6b>\"\u001b[0;36m, line \u001b[0;32m21\u001b[0m\n\u001b[0;31m    if secret_word[x] == guess_input:\u001b[0m\n\u001b[0m                                     ^\u001b[0m\n\u001b[0;31mIndentationError\u001b[0m\u001b[0;31m:\u001b[0m expected an indented block\n"
          ]
        }
      ]
    }
  ]
}